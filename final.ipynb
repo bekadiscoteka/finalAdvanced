{
  "cells": [
    {
      "cell_type": "code",
      "execution_count": null,
      "id": "4a7fb207-d191-44e4-a3a8-cf5de9a8ae55",
      "metadata": {
        "id": "4a7fb207-d191-44e4-a3a8-cf5de9a8ae55"
      },
      "outputs": [],
      "source": [
        "import os\n",
        "import json\n",
        "import music21 as m21\n",
        "import numpy as np\n",
        "import tensorflow.keras as keras"
      ]
    },
    {
      "cell_type": "code",
      "execution_count": null,
      "id": "ed2acf78-c047-4bcc-90f0-556200443c1a",
      "metadata": {
        "id": "ed2acf78-c047-4bcc-90f0-556200443c1a"
      },
      "outputs": [],
      "source": [
        "DATASET_DIRECTORY = \"dataset\"\n",
        "OUTPUT_DIRECTORY = \"processed_dataset\"\n",
        "DATASET_FILE_NAME = \"dataset_file\"\n",
        "MAPPING_FILE = \"note_mapping.json\"\n",
        "NOTE_SEQUENCE_LENGTH = 64\n",
        "NOTE_SEQUENCE_LENGTH = int(NOTE_SEQUENCE_LENGTH)"
      ]
    },
    {
      "cell_type": "code",
      "execution_count": null,
      "id": "2a388a10-b2eb-4f86-a7e3-0d442a3b6f9a",
      "metadata": {
        "id": "2a388a10-b2eb-4f86-a7e3-0d442a3b6f9a"
      },
      "outputs": [],
      "source": [
        "NOTE_DURATIONS = [\n",
        "    0.25,  # Sixteenth note\n",
        "    0.5,   # Eighth note\n",
        "    0.75,\n",
        "    1.0,   # Quarter note\n",
        "    1.5,\n",
        "    2,     # Half note\n",
        "    3,\n",
        "    4      # Whole note\n",
        "]"
      ]
    },
    {
      "cell_type": "code",
      "execution_count": null,
      "id": "77cb1277-117d-44cb-a701-a529645db240",
      "metadata": {
        "id": "77cb1277-117d-44cb-a701-a529645db240"
      },
      "outputs": [],
      "source": [
        "def fetch_kern_songs(dataset_dir):\n",
        "    kern_songs = []\n",
        "    for root, directories, filenames in os.walk(dataset_dir):\n",
        "        for filename in filenames:\n",
        "            if filename.endswith(\".krn\"):\n",
        "                path = os.path.join(root, filename)\n",
        "                song = m21.converter.parse(path)\n",
        "                kern_songs.append(song)\n",
        "    return kern_songs\n",
        "\n",
        "def check_note_durations(song, allowed_durations):\n",
        "    for element in song.flat.notesAndRests:\n",
        "        if element.duration.quarterLength not in allowed_durations:\n",
        "            return False\n",
        "    return True"
      ]
    },
    {
      "cell_type": "code",
      "execution_count": null,
      "id": "09d735ba-0efa-4693-86c6-f8c717e34fde",
      "metadata": {
        "id": "09d735ba-0efa-4693-86c6-f8c717e34fde"
      },
      "outputs": [],
      "source": [
        "def change_key(song):\n",
        "    song_parts = song.getElementsByClass(m21.stream.Part)\n",
        "    first_part_measures = song_parts[0].getElementsByClass(m21.stream.Measure)\n",
        "    song_key = first_part_measures[0][4]\n",
        "\n",
        "    if not isinstance(song_key, m21.key.Key):\n",
        "        song_key = song.analyze(\"key\")\n",
        "\n",
        "    if song_key.mode == \"major\":\n",
        "        key_change_interval = m21.interval.Interval(song_key.tonic, m21.pitch.Pitch(\"C\"))\n",
        "    else:\n",
        "        key_change_interval = m21.interval.Interval(song_key.tonic, m21.pitch.Pitch(\"A\"))\n",
        "\n",
        "    transposed_song = song.transpose(key_change_interval)\n",
        "    return transposed_song\n"
      ]
    },
    {
      "cell_type": "code",
      "execution_count": null,
      "id": "ff2df2ba-7160-4247-a5e9-67f33e75baf9",
      "metadata": {
        "id": "ff2df2ba-7160-4247-a5e9-67f33e75baf9"
      },
      "outputs": [],
      "source": [
        "def convert_song_to_text(song, duration_step=0.25):\n",
        "    song_text = []\n",
        "\n",
        "    for note_or_rest in song.flat.notesAndRests:\n",
        "        if isinstance(note_or_rest, m21.note.Note):\n",
        "            symbol = note_or_rest.pitch.midi\n",
        "        else:\n",
        "            symbol = \"r\"\n",
        "\n",
        "        duration_steps = int(note_or_rest.duration.quarterLength / duration_step)\n",
        "        for step in range(duration_steps):\n",
        "            if step == 0:\n",
        "                song_text.append(symbol)\n",
        "            else:\n",
        "                song_text.append(\"_\")\n",
        "\n",
        "    song_text = \" \".join(str(item) for item in song_text)\n",
        "    return song_text"
      ]
    },
    {
      "cell_type": "code",
      "execution_count": null,
      "id": "cac12eae-c025-4369-b170-c0ad00c00fbc",
      "metadata": {
        "id": "cac12eae-c025-4369-b170-c0ad00c00fbc"
      },
      "outputs": [],
      "source": [
        "def process_dataset(dataset_dir):\n",
        "    print(\"Starting processing...\")\n",
        "    kern_songs = fetch_kern_songs(dataset_dir)\n",
        "    print(f\"{len(kern_songs)} songs have been loaded.\")\n",
        "\n",
        "    for index, song in enumerate(kern_songs):\n",
        "        if not check_note_durations(song, NOTE_DURATIONS):\n",
        "            continue\n",
        "\n",
        "        song = change_key(song)\n",
        "        song_text = convert_song_to_text(song)\n",
        "\n",
        "        output_path = os.path.join(OUTPUT_DIRECTORY, str(index))\n",
        "        with open(output_path, \"w\") as file_pointer:\n",
        "            file_pointer.write(song_text)\n",
        "\n",
        "        if index % 10 == 0:\n",
        "            print(f\"Processed {index} out of {len(kern_songs)}\")"
      ]
    },
    {
      "cell_type": "code",
      "execution_count": null,
      "id": "5f37ff3f-696b-4f92-b982-4faea508ac68",
      "metadata": {
        "id": "5f37ff3f-696b-4f92-b982-4faea508ac68"
      },
      "outputs": [],
      "source": [
        "def read_song(file_path):\n",
        "    with open(file_path, \"r\") as file_pointer:\n",
        "        song_text = file_pointer.read()\n",
        "    return song_text"
      ]
    },
    {
      "cell_type": "code",
      "execution_count": null,
      "id": "2a2a944e-ded8-44b8-afd9-929944ba855e",
      "metadata": {
        "id": "2a2a944e-ded8-44b8-afd9-929944ba855e"
      },
      "outputs": [],
      "source": [
        "def generate_dataset_file(seq_length, dataset_dir, output_file_path):\n",
        "    song_separator = \"/ \" * seq_length\n",
        "    all_songs_text = \"\"\n",
        "\n",
        "    for root, _, filenames in os.walk(dataset_dir):\n",
        "        for filename in filenames:\n",
        "            file_path = os.path.join(root, filename)\n",
        "            song_text = read_song(file_path)\n",
        "            all_songs_text += song_text + \" \" + song_separator\n",
        "\n",
        "    all_songs_text = all_songs_text[:-1]\n",
        "\n",
        "    with open(output_file_path, \"w\") as file_pointer:\n",
        "        file_pointer.write(all_songs_text)\n",
        "\n",
        "    return all_songs_text\n",
        "\n",
        "def map_songs_to_integers(songs_text, map_path):\n",
        "    mapping_dict = {}\n",
        "\n",
        "    songs_elements = songs_text.split()\n",
        "    unique_elements = list(set(songs_elements))\n",
        "\n",
        "    for index, element in enumerate(unique_elements):\n",
        "        mapping_dict[element] = index\n",
        "\n",
        "    with open(map_path, \"w\") as file_pointer:\n",
        "        json.dump(mapping_dict, file_pointer, indent=4)"
      ]
    },
    {
      "cell_type": "code",
      "execution_count": null,
      "id": "b638217b-bbc1-4ddf-beaf-a32050245e92",
      "metadata": {
        "id": "b638217b-bbc1-4ddf-beaf-a32050245e92"
      },
      "outputs": [],
      "source": [
        "def main():\n",
        "    global NOTE_SEQUENCE_LENGTH\n",
        "    NOTE_SEQUENCE_LENGTH = int(NOTE_SEQUENCE_LENGTH)\n",
        "    process_dataset(DATASET_DIRECTORY)\n",
        "    all_songs_text = generate_dataset_file(NOTE_SEQUENCE_LENGTH, OUTPUT_DIRECTORY, DATASET_FILE_NAME)\n",
        "    map_songs_to_integers(all_songs_text, MAPPING_FILE)"
      ]
    },
    {
      "cell_type": "code",
      "execution_count": null,
      "id": "12b73d95-aae7-46d5-8f9c-62791d68ac6c",
      "metadata": {
        "id": "12b73d95-aae7-46d5-8f9c-62791d68ac6c"
      },
      "outputs": [],
      "source": [
        "if __name__ == \"__main__\":\n",
        "    main()"
      ]
    },
    {
      "cell_type": "code",
      "execution_count": null,
      "id": "dc1460f5-b75e-4545-903e-e3911173fd7a",
      "metadata": {
        "id": "dc1460f5-b75e-4545-903e-e3911173fd7a"
      },
      "outputs": [],
      "source": [
        "import tensorflow.keras as keras\n",
        "import matplotlib.pyplot as plt\n",
        "import time\n",
        "import numpy as np\n",
        "import json"
      ]
    },
    {
      "cell_type": "code",
      "execution_count": null,
      "id": "825cde6e-0406-4212-8d2b-50690107839b",
      "metadata": {
        "id": "825cde6e-0406-4212-8d2b-50690107839b"
      },
      "outputs": [],
      "source": [
        "SEQUENCE_LENGTH = 64\n",
        "DATASET_FILE_NAME = 'dataset_file'\n",
        "MAPPING_PATH = 'note_mapping.json'"
      ]
    },
    {
      "cell_type": "code",
      "execution_count": null,
      "id": "ca0136d7-8e69-4ec0-a9c6-ab7beb248b22",
      "metadata": {
        "id": "ca0136d7-8e69-4ec0-a9c6-ab7beb248b22"
      },
      "outputs": [],
      "source": [
        "OUTPUT_UNITS = 38\n",
        "NUM_UNITS = [256]\n",
        "LOSS = \"sparse_categorical_crossentropy\"\n",
        "LEARNING_RATE = 0.001\n",
        "EPOCHS = 10\n",
        "BATCH_SIZE = 64\n",
        "SAVE_MODEL_PATH = \"model.h5\""
      ]
    },
    {
      "cell_type": "code",
      "execution_count": null,
      "id": "82c0db50-4854-423d-b411-ba361512012d",
      "metadata": {
        "id": "82c0db50-4854-423d-b411-ba361512012d"
      },
      "outputs": [],
      "source": [
        "def load_and_prepare_sequences(sequence_length=SEQUENCE_LENGTH):\n",
        "    # Load the dataset file\n",
        "    with open(DATASET_FILE_NAME, 'r') as file:\n",
        "        songs = file.read()\n",
        "\n",
        "    # load mapping\n",
        "    with open(MAPPING_PATH, 'r') as file:\n",
        "        mappings = json.load(file)\n",
        "\n",
        "    # converting\n",
        "    songs_int = [mappings[char] for char in songs if char in mappings]\n",
        "\n",
        "    # generating the trained sequences\n",
        "    inputs, targets = [], []\n",
        "    num_sequences = len(songs_int) - sequence_length\n",
        "    for i in range(num_sequences):\n",
        "        inputs.append(songs_int[i:i+sequence_length])\n",
        "        targets.append(songs_int[i+sequence_length])\n",
        "\n",
        "    vocabulary_size = len(mappings)\n",
        "    inputs = keras.utils.to_categorical(inputs, num_classes=vocabulary_size)\n",
        "    targets = np.array(targets)\n",
        "\n",
        "    return inputs, targets"
      ]
    },
    {
      "cell_type": "code",
      "execution_count": null,
      "id": "e38ef32b-4d3c-430a-8921-5023ebf0ae4d",
      "metadata": {
        "id": "e38ef32b-4d3c-430a-8921-5023ebf0ae4d"
      },
      "outputs": [],
      "source": [
        "def design_model_beka_said(output_units, num_units, loss, learning_rate):\n",
        "\n",
        "    input = keras.layers.Input(shape=(None, output_units))\n",
        "    x = keras.layers.LSTM(num_units[0])(input)\n",
        "    x = keras.layers.Dropout(0.2)(x)\n",
        "\n",
        "    output = keras.layers.Dense(output_units, activation=\"softmax\")(x)\n",
        "\n",
        "    model = keras.Model(input, output)\n",
        "\n",
        "    model.compile(loss=loss,\n",
        "                  optimizer=keras.optimizers.Adam(learning_rate=learning_rate),\n",
        "                  metrics=[\"accuracy\"])\n",
        "\n",
        "    model.summary()\n",
        "\n",
        "    return model\n"
      ]
    },
    {
      "cell_type": "code",
      "execution_count": null,
      "id": "8bd49fcb-49e0-4112-9594-baf9e7c06bdf",
      "metadata": {
        "id": "8bd49fcb-49e0-4112-9594-baf9e7c06bdf"
      },
      "outputs": [],
      "source": [
        "\n",
        "def train(output_units=OUTPUT_UNITS, num_units=NUM_UNITS, loss=LOSS, learning_rate=LEARNING_RATE):\n",
        "\n",
        "    inputs, targets = load_and_prepare_sequences(SEQUENCE_LENGTH)\n",
        "\n",
        "    model = design_model_beka_said(output_units, num_units, loss, learning_rate)\n",
        "\n",
        "    training_loss = []\n",
        "    training_accuracy = []\n",
        "    epoch_times = []\n",
        "\n",
        "    for epoch in range(EPOCHS):\n",
        "        start_time = time.time()\n",
        "\n",
        "        history = model.fit(inputs, targets, epochs=1, batch_size=BATCH_SIZE, verbose=0)\n",
        "\n",
        "        training_loss.append(history.history['loss'][0])\n",
        "        training_accuracy.append(history.history['accuracy'][0])\n",
        "\n",
        "        epoch_time = time.time() - start_time\n",
        "        epoch_times.append(epoch_time)\n",
        "\n",
        "        print(f\"Epoch {epoch+1}/{EPOCHS} - \"\n",
        "              f\"Loss: {training_loss[-1]:.4f}, \"\n",
        "              f\"Accuracy: {training_accuracy[-1]:.4f}, \"\n",
        "              f\"Time: {epoch_time:.2f} sec\")\n",
        "\n",
        "    # Plot training history\n",
        "    plt.figure(figsize=(12, 6))\n",
        "\n",
        "    # Plot training loss\n",
        "    plt.subplot(1, 2, 1)\n",
        "    plt.plot(training_loss, label='Training Loss')\n",
        "    plt.title('Training Loss')\n",
        "    plt.xlabel('Epoch')\n",
        "    plt.ylabel('Loss')\n",
        "    plt.legend()\n",
        "\n",
        "    # Plot training accuracy\n",
        "    plt.subplot(1, 2, 2)\n",
        "    plt.plot(training_accuracy, label='Training Accuracy')\n",
        "    plt.title('Training Accuracy')\n",
        "    plt.xlabel('Epoch')\n",
        "    plt.ylabel('Accuracy')\n",
        "    plt.legend()\n",
        "\n",
        "    plt.tight_layout()\n",
        "    plt.show()\n",
        "\n",
        "    # Optionally plot epoch times\n",
        "    plt.figure()\n",
        "    plt.plot(epoch_times, label='Epoch Time')\n",
        "    plt.title('Epoch Time')\n",
        "    plt.xlabel('Epoch')\n",
        "    plt.ylabel('Time (sec)')\n",
        "    plt.legend()\n",
        "    plt.show()\n",
        "\n",
        "    model.save(SAVE_MODEL_PATH)\n",
        "\n",
        "if __name__ == \"__main__\":\n",
        "    train()"
      ]
    },
    {
      "cell_type": "code",
      "execution_count": null,
      "id": "b8f5660a-1834-4cc4-9cd6-eb7b6ec44dd6",
      "metadata": {
        "id": "b8f5660a-1834-4cc4-9cd6-eb7b6ec44dd6"
      },
      "outputs": [],
      "source": [
        "import json\n",
        "import numpy as np\n",
        "import tensorflow.keras as keras\n",
        "import random\n",
        "import music21 as m21\n",
        "from preprocessing import NOTE_SEQUENCE_LENGTH, MAPPING_FILE\n",
        "from train import design_model_beka_said, OUTPUT_UNITS"
      ]
    },
    {
      "cell_type": "code",
      "execution_count": null,
      "id": "71b5c338-4a4e-4257-9568-e6acf778515f",
      "metadata": {
        "id": "71b5c338-4a4e-4257-9568-e6acf778515f"
      },
      "outputs": [],
      "source": [
        "class MelodyGenerator:\n",
        "    def __init__(self, model_path=\"model.h5\"):\n",
        "\n",
        "        self.model_path = model_path\n",
        "        self.model = keras.models.load_model(model_path)\n",
        "\n",
        "        with open(MAPPING_FILE, \"r\") as fp:\n",
        "            self._mappings = json.load(fp)\n",
        "\n",
        "        self._start_symbols = [\"/\"] * NOTE_SEQUENCE_LENGTH\n",
        "\n",
        "\n",
        "    def generate_melody(self, seed, num_steps, max_sequence_length, temperature):\n",
        "\n",
        "        seed = seed.split()\n",
        "        melody = seed\n",
        "        seed = self._start_symbols + seed\n",
        "\n",
        "        seed = [self._mappings[symbol] for symbol in seed]\n",
        "\n",
        "        for _ in range(num_steps):\n",
        "\n",
        "            seed = seed[-max_sequence_length:]\n",
        "\n",
        "            onehot_seed = keras.utils.to_categorical(seed, num_classes=len(self._mappings))\n",
        "            onehot_seed = onehot_seed[np.newaxis, ...]\n",
        "\n",
        "            probabilities = self.model.predict(onehot_seed)[0]\n",
        "            output_int = self._sample_with_temperature(probabilities, temperature)\n",
        "\n",
        "            seed.append(output_int)\n",
        "\n",
        "            output_symbol = [k for k, v in self._mappings.items() if v == output_int][0]\n",
        "\n",
        "            if output_symbol == \"/\":\n",
        "                break\n",
        "\n",
        "            melody.append(output_symbol)\n",
        "\n",
        "        return melody\n",
        "\n",
        "\n",
        "    def _sample_with_temperature(self, probabilites, temperature):\n",
        "        predictions = np.log(probabilites) / temperature\n",
        "        probabilites = np.exp(predictions) / np.sum(np.exp(predictions))\n",
        "\n",
        "        choices = range(len(probabilites)) # [0, 1, 2, 3]\n",
        "        index = np.random.choice(choices, p=probabilites)\n",
        "\n",
        "        return index\n",
        "\n",
        "\n",
        "    def save_melody(self, melody, step_duration=0.25, format=\"midi\", file_name=\"melody.midi\"):\n",
        "\n",
        "        stream = m21.stream.Stream()\n",
        "\n",
        "        start_symbol = None\n",
        "        step_counter = 1\n",
        "\n",
        "        for i, symbol in enumerate(melody):\n",
        "\n",
        "            if symbol != \"_\" or i + 1 == len(melody):\n",
        "\n",
        "                if start_symbol is not None:\n",
        "\n",
        "                    quarter_length_duration = step_duration * step_counter\n",
        "\n",
        "                    if start_symbol == \"r\":\n",
        "                        m21_event = m21.note.Rest(quarterLength=quarter_length_duration)\n",
        "                    else:\n",
        "                        m21_event = m21.note.Note(int(start_symbol), quarterLength=quarter_length_duration)\n",
        "\n",
        "                    stream.append(m21_event)\n",
        "\n",
        "                    step_counter = 1\n",
        "\n",
        "                start_symbol = symbol\n",
        "\n",
        "            else:\n",
        "                step_counter += 1\n",
        "\n",
        "        stream.write(format, file_name)\n",
        "\n",
        "\n",
        "def read_random_seed_from_file(file_path):\n",
        "    with open(file_path, 'r') as file:\n",
        "        lines = file.readlines()\n",
        "\n",
        "        seeds = [line.strip() for line in lines if line.strip()]\n",
        "        if not seeds:\n",
        "            raise ValueError(\"The dataset file is empty.\")\n",
        "        return random.choice(seeds)\n",
        "\n",
        "def generate_melody(model, file_dataset):\n",
        "    seed = read_random_seed_from_file(file_dataset)\n",
        "    return np.random.randint(0, OUTPUT_UNITS, size=100), seed\n",
        "\n",
        "if __name__ == \"__main__\":\n",
        "    file_dataset = \"dataset_file\"\n",
        "    mg = MelodyGenerator()\n",
        "    melody, used_seed = generate_melody(mg, file_dataset)\n",
        "    print(\"Used seed:\", used_seed)\n",
        "    print(\"Generated melody:\", melody)\n",
        "    mg.save_melody(melody)"
      ]
    },
    {
      "cell_type": "code",
      "execution_count": null,
      "id": "9824beb5-5751-4161-a1e3-b9e3f151bb6f",
      "metadata": {
        "id": "9824beb5-5751-4161-a1e3-b9e3f151bb6f"
      },
      "outputs": [],
      "source": []
    }
  ],
  "metadata": {
    "kernelspec": {
      "display_name": "Python 3 (ipykernel)",
      "language": "python",
      "name": "python3"
    },
    "language_info": {
      "codemirror_mode": {
        "name": "ipython",
        "version": 3
      },
      "file_extension": ".py",
      "mimetype": "text/x-python",
      "name": "python",
      "nbconvert_exporter": "python",
      "pygments_lexer": "ipython3",
      "version": "3.12.2"
    },
    "colab": {
      "provenance": []
    }
  },
  "nbformat": 4,
  "nbformat_minor": 5
}